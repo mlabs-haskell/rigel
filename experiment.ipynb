{
 "cells": [
  {
   "cell_type": "code",
   "execution_count": 1,
   "metadata": {},
   "outputs": [
    {
     "name": "stdout",
     "output_type": "stream",
     "text": [
      "env: RANK=0\n",
      "env: WORLD_SIZE=1\n",
      "env: MASTER_ADDR=127.0.0.1\n",
      "env: MASTER_PORT=2020\n"
     ]
    }
   ],
   "source": [
    "%env RANK=0\n",
    "%env WORLD_SIZE=1\n",
    "%env MASTER_ADDR=127.0.0.1\n",
    "%env MASTER_PORT=2020"
   ]
  },
  {
   "cell_type": "code",
   "execution_count": 2,
   "metadata": {},
   "outputs": [],
   "source": [
    "ckpt_dir = \"modified_llama/llama-2-7b\"\n",
    "tokenizer_path = \"modified_llama/tokenizer.model\"\n",
    "max_seq_len = 128\n",
    "max_gen_len = 64\n",
    "max_batch_size = 4"
   ]
  },
  {
   "cell_type": "code",
   "execution_count": 3,
   "metadata": {},
   "outputs": [
    {
     "name": "stdout",
     "output_type": "stream",
     "text": [
      "Building generator\n",
      "> initializing model parallel with size 1\n",
      "> initializing ddp with size 1\n",
      "> initializing pipeline with size 1\n"
     ]
    },
    {
     "name": "stderr",
     "output_type": "stream",
     "text": [
      "/home/ubuntu/.local/lib/python3.10/site-packages/torch/__init__.py:614: UserWarning: torch.set_default_tensor_type() is deprecated as of PyTorch 2.1, please use torch.set_default_dtype() and torch.set_default_device() as alternatives. (Triggered internally at ../torch/csrc/tensor/python_tensor.cpp:451.)\n",
      "  _C._set_default_tensor_type(t)\n"
     ]
    },
    {
     "name": "stdout",
     "output_type": "stream",
     "text": [
      "Loaded in 11.63 seconds\n",
      "Built generator\n"
     ]
    }
   ],
   "source": [
    "from modified_llama.llama import Llama\n",
    "import torch\n",
    "\n",
    "# Create the generator - very resource intensive\n",
    "print(\"Building generator\")\n",
    "generator = Llama.build(\n",
    "    ckpt_dir=ckpt_dir,\n",
    "    tokenizer_path=tokenizer_path,\n",
    "    max_seq_len=max_seq_len,\n",
    "    max_batch_size=max_batch_size,\n",
    ")\n",
    "print(\"Built generator\")"
   ]
  },
  {
   "cell_type": "code",
   "execution_count": 135,
   "metadata": {},
   "outputs": [],
   "source": [
    "#QUERY1 = \"The eighth and farthest known planet from the Sun is Neptune.\"\n",
    "QUERY1 = \"happiness\"\n",
    "QUERY2 = \"water\"\n",
    "#QUERY2 = \"Neptune is the farthest known and eighth planet from the Sun.\"\n",
    "#QUERY2 = \"The Roman god of freshwater and the sea in Roman religion is Poseidon.\"\n",
    "#QUERY2 = \"Colorado Springs is a city in and the county seat of El Paso County, Colorado, United States.\""
   ]
  },
  {
   "cell_type": "code",
   "execution_count": 136,
   "metadata": {},
   "outputs": [],
   "source": [
    "tokens = generator.tokenize(max_seq_len, [(\"\", QUERY1), (\"\", QUERY2)], False, False)\n",
    "raw_embeds, key_values, context_vectors = generator.generate(\n",
    "    [toks for _, toks in tokens],\n",
    "    max_gen_len\n",
    ")"
   ]
  },
  {
   "cell_type": "code",
   "execution_count": 137,
   "metadata": {},
   "outputs": [
    {
     "name": "stdout",
     "output_type": "stream",
     "text": [
      "['happiness']\n",
      "['water']\n"
     ]
    }
   ],
   "source": [
    "for _, t in tokens:\n",
    "    print([generator.tokenizer.decode(i) for i in t])"
   ]
  },
  {
   "cell_type": "code",
   "execution_count": 138,
   "metadata": {},
   "outputs": [],
   "source": [
    "query_raw_embeds = []\n",
    "query_key_values = []\n",
    "query_context_vectors = []\n",
    "for i in range(len(context_vectors[0])):\n",
    "    new_kv = []\n",
    "    new_cv = []\n",
    "    for j in range(len(context_vectors)):\n",
    "        tensor = torch.tensor(context_vectors[j][i])\n",
    "        tensor = tensor.flatten()\n",
    "        new_cv.append(tensor)\n",
    "\n",
    "        tensor = torch.tensor(key_values[j][i])\n",
    "        tensor = tensor.flatten()\n",
    "        new_kv.append(tensor)\n",
    "\n",
    "    tensor = torch.tensor(raw_embeds[i])\n",
    "    tensor = tensor.flatten()\n",
    "\n",
    "    query_raw_embeds.append(tensor)\n",
    "    query_key_values.append(new_kv)\n",
    "    query_context_vectors.append(new_cv)"
   ]
  },
  {
   "cell_type": "code",
   "execution_count": 139,
   "metadata": {},
   "outputs": [],
   "source": [
    "query_context_vectors = torch.stack([\n",
    "    torch.stack([i for i in q])\n",
    "    for q in query_context_vectors\n",
    "])\n",
    "cv_mean = query_context_vectors.mean(1, keepdim=True)\n",
    "cv_std = query_context_vectors.std(1, keepdim = True) + 1e-3\n",
    "query_context_vectors = (query_context_vectors - cv_mean) / cv_std"
   ]
  },
  {
   "cell_type": "code",
   "execution_count": 140,
   "metadata": {},
   "outputs": [
    {
     "name": "stdout",
     "output_type": "stream",
     "text": [
      "Stats for context vectors:\n",
      "\tMin similarity of 0.5966796875 found in block #1\n",
      "\tMax similarity of 0.99609375 found in block #10\n",
      "\tAvg similarity: 0.96484375\n",
      "\tMedian similarity: 0.98974609375\n",
      "\n",
      "Stats for key-value vectors:\n",
      "\tMin similarity of 0.9150390625 found in block #1\n",
      "\tMax similarity of 1.0 found in block #4\n",
      "\tAvg similarity: 0.99609375\n",
      "\tMedian similarity: 0.99951171875\n",
      "\n",
      "Similarity for raw embedding vectors: 0.05328369140625\n"
     ]
    }
   ],
   "source": [
    "import statistics\n",
    "from torch import nn\n",
    "\n",
    "def find_sims(vectors, sim_scorer):\n",
    "    similarities = [\n",
    "        sim_scorer(vectors[0][i], vectors[1][i])\n",
    "        for i in range(len(query_context_vectors[0]))\n",
    "    ]\n",
    "\n",
    "    min_idx, min_sim = min(enumerate(similarities), key=lambda s: s[1])\n",
    "    max_idx, max_sim = max(enumerate(similarities), key=lambda s: s[1])\n",
    "    avg_sim = sum(similarities) / len(similarities)\n",
    "    med_sim = statistics.median(similarities)\n",
    "\n",
    "    print(f\"\\tMin similarity of {min_sim} found in block #{min_idx}\")\n",
    "    print(f\"\\tMax similarity of {max_sim} found in block #{max_idx}\")\n",
    "    print(f\"\\tAvg similarity: {avg_sim}\")\n",
    "    print(f\"\\tMedian similarity: {med_sim}\")\n",
    "\n",
    "sim_scorer = nn.CosineSimilarity(dim=0)\n",
    "embedding_sim = sim_scorer(query_raw_embeds[0], query_raw_embeds[1])\n",
    "\n",
    "print(\"Stats for context vectors:\")\n",
    "find_sims(query_context_vectors, sim_scorer)\n",
    "print()\n",
    "print(\"Stats for key-value vectors:\")\n",
    "find_sims(query_key_values, sim_scorer)\n",
    "print()\n",
    "print(f\"Similarity for raw embedding vectors: {embedding_sim}\")"
   ]
  },
  {
   "cell_type": "code",
   "execution_count": 81,
   "metadata": {},
   "outputs": [
    {
     "name": "stdout",
     "output_type": "stream",
     "text": [
      "tensor(-96.3125)\n",
      "tensor(62.1562)\n",
      "tensor(-0.0024)\n"
     ]
    },
    {
     "data": {
      "image/png": "[encoded data removed]",
      "text/plain": [
       "<Figure size 640x480 with 1 Axes>"
      ]
     },
     "metadata": {},
     "output_type": "display_data"
    }
   ],
   "source": [
    "import matplotlib.pyplot as plt\n",
    "\n",
    "total = torch.stack([\n",
    "    torch.stack([i for i in q])\n",
    "    for q in query_context_vectors\n",
    "])\n",
    "total = (total - total.mean(2, keepdim=True)) / (total.std(2, keepdim = True) + 1e-3)\n",
    "\n",
    "print(total.min())\n",
    "print(total.max())\n",
    "print(total.median())\n",
    "\n",
    "plt.hist(total.flatten().cpu(), 20, log=True)\n",
    "plt.title(\"Distribution of Values in Normalized Attention Output\")\n",
    "plt.show()"
   ]
  }
 ],
 "metadata": {
  "kernelspec": {
   "display_name": "Python 3",
   "language": "python",
   "name": "python3"
  },
  "language_info": {
   "codemirror_mode": {
    "name": "ipython",
    "version": 3
   },
   "file_extension": ".py",
   "mimetype": "text/x-python",
   "name": "python",
   "nbconvert_exporter": "python",
   "pygments_lexer": "ipython3",
   "version": "3.10.12"
  }
 },
 "nbformat": 4,
 "nbformat_minor": 2
}
