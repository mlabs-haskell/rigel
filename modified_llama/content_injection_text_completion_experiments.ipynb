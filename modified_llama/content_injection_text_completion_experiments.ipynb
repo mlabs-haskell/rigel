{
 "cells": [
  {
   "cell_type": "code",
   "execution_count": null,
   "metadata": {},
   "outputs": [],
   "source": [
    "%env RANK=0\n",
    "%env WORLD_SIZE=1\n",
    "%env MASTER_ADDR=127.0.0.1\n",
    "%env MASTER_PORT=2020"
   ]
  },
  {
   "cell_type": "code",
   "execution_count": 2,
   "metadata": {},
   "outputs": [],
   "source": [
    "ckpt_dir = \"llama-2-7b\"\n",
    "tokenizer_path = \"tokenizer.model\"\n",
    "temperature = 0.6\n",
    "top_p = 0.9\n",
    "max_seq_len = 512\n",
    "max_batch_size = 8\n",
    "max_gen_len = None"
   ]
  },
  {
   "cell_type": "code",
   "execution_count": null,
   "metadata": {},
   "outputs": [],
   "source": [
    "from llama import Llama, Dialog\n",
    "\n",
    "print(\"Building generator\")\n",
    "generator = Llama.build(\n",
    "    ckpt_dir=ckpt_dir,\n",
    "    tokenizer_path=tokenizer_path,\n",
    "    max_seq_len=max_seq_len,\n",
    "    max_batch_size=max_batch_size,\n",
    ")\n",
    "print(\"Built generator\")"
   ]
  },
  {
   "cell_type": "code",
   "execution_count": 6,
   "metadata": {},
   "outputs": [],
   "source": [
    "def complete_text(prompts: list[str]):\n",
    "    results = generator.text_completion(\n",
    "        prompts,\n",
    "        max_gen_len=max_gen_len,\n",
    "        temperature=temperature,\n",
    "        top_p=top_p,\n",
    "    )\n",
    "    for prompt, result in zip(prompts, results):\n",
    "        print(prompt)\n",
    "        print(f\"> {result['generation']}\")\n",
    "        print(\"\\n==================================\\n\")"
   ]
  },
  {
   "cell_type": "code",
   "execution_count": null,
   "metadata": {},
   "outputs": [],
   "source": [
    "prompts = [\n",
    "    \"Neptune is the god of the sea. The god of the sea is named\",\n",
    "    (\n",
    "        \"Colorado Springs is a city in and the county seat of El Paso County, \"\n",
    "        \"Colorado, United States. It is the most populous city in El Paso County, \"\n",
    "        \"with a population of 478,961 at the 2020 census, a 15.02 percent increase \"\n",
    "        \"since 2010. Colorado Springs is located\"\n",
    "    ),\n",
    "    (\n",
    "        \"Jubaloo is a city in and the county seat of Triangtowa County, \"\n",
    "        \"Bulagoo, United States. It is the most populous city in Triangtowa County, \"\n",
    "        \"with a population of 478,961 at the 2020 census, a 15.02 percent increase \"\n",
    "        \"since 2010. Jubaloo is located\"\n",
    "    )\n",
    "]\n",
    "complete_text(prompts)"
   ]
  }
 ],
 "metadata": {
  "kernelspec": {
   "display_name": "Python 3",
   "language": "python",
   "name": "python3"
  },
  "language_info": {
   "codemirror_mode": {
    "name": "ipython",
    "version": 3
   },
   "file_extension": ".py",
   "mimetype": "text/x-python",
   "name": "python",
   "nbconvert_exporter": "python",
   "pygments_lexer": "ipython3",
   "version": "3.10.12"
  }
 },
 "nbformat": 4,
 "nbformat_minor": 2
}
