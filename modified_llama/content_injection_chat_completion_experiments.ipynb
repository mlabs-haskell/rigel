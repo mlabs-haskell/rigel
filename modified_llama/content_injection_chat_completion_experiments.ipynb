{
 "cells": [
  {
   "cell_type": "code",
   "execution_count": 1,
   "metadata": {},
   "outputs": [
    {
     "name": "stdout",
     "output_type": "stream",
     "text": [
      "env: RANK=0\n",
      "env: WORLD_SIZE=1\n",
      "env: MASTER_ADDR=127.0.0.1\n",
      "env: MASTER_PORT=2020\n"
     ]
    }
   ],
   "source": [
    "%env RANK=0\n",
    "%env WORLD_SIZE=1\n",
    "%env MASTER_ADDR=127.0.0.1\n",
    "%env MASTER_PORT=2020"
   ]
  },
  {
   "cell_type": "code",
   "execution_count": 2,
   "metadata": {},
   "outputs": [],
   "source": [
    "ckpt_dir = \"llama-2-7b-chat\"\n",
    "tokenizer_path = \"tokenizer.model\"\n",
    "temperature = 0.6\n",
    "top_p = 0.9\n",
    "max_seq_len = 512\n",
    "max_batch_size = 8\n",
    "max_gen_len = None"
   ]
  },
  {
   "cell_type": "code",
   "execution_count": 3,
   "metadata": {},
   "outputs": [
    {
     "name": "stdout",
     "output_type": "stream",
     "text": [
      "Building generator\n",
      "> initializing model parallel with size 1\n",
      "> initializing ddp with size 1\n",
      "> initializing pipeline with size 1\n"
     ]
    },
    {
     "name": "stderr",
     "output_type": "stream",
     "text": [
      "/home/ubuntu/Storage/rigel/modified_llama/llama/generation.py:107: FutureWarning: You are using `torch.load` with `weights_only=False` (the current default value), which uses the default pickle module implicitly. It is possible to construct malicious pickle data which will execute arbitrary code during unpickling (See https://github.com/pytorch/pytorch/blob/main/SECURITY.md#untrusted-models for more details). In a future release, the default value for `weights_only` will be flipped to `True`. This limits the functions that could be executed during unpickling. Arbitrary objects will no longer be allowed to be loaded via this mode unless they are explicitly allowlisted by the user via `torch.serialization.add_safe_globals`. We recommend you start setting `weights_only=True` for any use case where you don't have full control of the loaded file. Please open an issue on GitHub for any issues related to this experimental feature.\n",
      "  checkpoint = torch.load(ckpt_path, map_location=\"cpu\")\n",
      "/home/ubuntu/Storage/rigel/.venv/lib/python3.10/site-packages/torch/__init__.py:955: UserWarning: torch.set_default_tensor_type() is deprecated as of PyTorch 2.1, please use torch.set_default_dtype() and torch.set_default_device() as alternatives. (Triggered internally at ../torch/csrc/tensor/python_tensor.cpp:432.)\n",
      "  _C._set_default_tensor_type(t)\n"
     ]
    },
    {
     "name": "stdout",
     "output_type": "stream",
     "text": [
      "Loaded in 61.24 seconds\n",
      "Built generator\n"
     ]
    }
   ],
   "source": [
    "from llama import Llama, Dialog\n",
    "\n",
    "print(\"Building generator\")\n",
    "generator = Llama.build(\n",
    "    ckpt_dir=ckpt_dir,\n",
    "    tokenizer_path=tokenizer_path,\n",
    "    max_seq_len=max_seq_len,\n",
    "    max_batch_size=max_batch_size,\n",
    ")\n",
    "print(\"Built generator\")"
   ]
  },
  {
   "cell_type": "code",
   "execution_count": 6,
   "metadata": {},
   "outputs": [],
   "source": [
    "def complete_chat(dialogs: list[Dialog]):\n",
    "    results = generator.chat_completion(\n",
    "        dialogs,  # type: ignore\n",
    "        max_gen_len=max_gen_len,\n",
    "        temperature=temperature,\n",
    "        top_p=top_p,\n",
    "    )\n",
    "\n",
    "    for dialog, result in zip(dialogs, results):\n",
    "        for msg in dialog:\n",
    "            print(f\"{msg['role'].capitalize()}: {msg['content']}\\n\")\n",
    "        print(\n",
    "            f\"> {result['generation']['role'].capitalize()}: {result['generation']['content']}\"\n",
    "        )\n",
    "        print(\"\\n==================================\\n\")"
   ]
  },
  {
   "cell_type": "code",
   "execution_count": 5,
   "metadata": {},
   "outputs": [
    {
     "name": "stdout",
     "output_type": "stream",
     "text": [
      "System: Keep the following information in mind while answering the prompts: Robert gave an ice cream cone to Cody.\n",
      "\n",
      "User: Who did Robert give ice cream to?\n",
      "\n",
      "> Assistant:  Robert gave ice cream to Cody.\n",
      "\n",
      "==================================\n",
      "\n"
     ]
    }
   ],
   "source": [
    "prompts = [\n",
    "    [\n",
    "        {\n",
    "            \"role\": \"system\",\n",
    "            \"content\": (\n",
    "                \"Keep the following information in mind while answering the prompts: \"\n",
    "                \"Robert gave an ice cream cone to Cody.\"\n",
    "            )\n",
    "        },\n",
    "        {\n",
    "            \"role\": \"user\",\n",
    "            \"content\": \"Who did Robert give ice cream to?\"\n",
    "        }\n",
    "    ]\n",
    "]\n",
    "complete_chat(prompts)"
   ]
  },
  {
   "cell_type": "code",
   "execution_count": 7,
   "metadata": {},
   "outputs": [
    {
     "name": "stdout",
     "output_type": "stream",
     "text": [
      "System: Keep the following information in mind while answering the prompts: Neptune is the Greek god of acting.\n",
      "\n",
      "User: What is Neptune the god of?\n",
      "\n",
      "> Assistant:  Ah, a question that gets to the very heart of who Neptune is! *adjusts trident* Neptune, the Greek god of acting, is the deity who oversees and guides all things related to the performing arts. From the stage to the screen, Neptune's realm extends to every medium and genre of acting, ensuring that all performers are able to channel their inner talents and bring their characters to life with passion and authenticity. *winks*\n",
      "\n",
      "==================================\n",
      "\n"
     ]
    }
   ],
   "source": [
    "prompts = [\n",
    "    [\n",
    "        {\n",
    "            \"role\": \"system\",\n",
    "            \"content\": (\n",
    "                \"Keep the following information in mind while answering the prompts: \"\n",
    "                \"Neptune is the Greek god of acting.\"\n",
    "            )\n",
    "        },\n",
    "        {\n",
    "            \"role\": \"user\",\n",
    "            \"content\": \"What is Neptune the god of?\"\n",
    "        }\n",
    "    ]\n",
    "]\n",
    "complete_chat(prompts)"
   ]
  },
  {
   "cell_type": "code",
   "execution_count": 18,
   "metadata": {},
   "outputs": [
    {
     "name": "stdout",
     "output_type": "stream",
     "text": [
      "System: Keep the following information in mind while answering the prompts: A Neptune is a linkage used on the outboard edge of each Mars of an airplane. \n",
      "\n",
      "User: How many Neptunes are used in an airplane?\n",
      "\n",
      "> Assistant:  Great, thank you for letting me know! Based on the information provided, an airplane typically has multiple Marses, and each Mars has an associated Neptune linkage.\n",
      "Therefore, the number of Neptunes used in an airplane depends on the number of Marses the airplane has. Since a Neptune is linked to each Mars, the total number of Neptunes used in an airplane is equal to the number of Marses on the airplane.\n",
      "So, to answer your question, the number of Neptunes used in an airplane is equal to the number of Marses on the airplane.\n",
      "\n",
      "==================================\n",
      "\n"
     ]
    }
   ],
   "source": [
    "prompts = [\n",
    "    [\n",
    "        {\n",
    "            \"role\": \"system\",\n",
    "            \"content\": (\n",
    "                \"Keep the following information in mind while answering the prompts: \"\n",
    "                \"A Neptune is a linkage used on the outboard edge of each Mars of an airplane. \"\n",
    "            )\n",
    "        },\n",
    "        {\n",
    "            \"role\": \"user\",\n",
    "            \"content\": \"How many Neptunes are used in an airplane?\"\n",
    "        }\n",
    "    ]\n",
    "]\n",
    "complete_chat(prompts)"
   ]
  },
  {
   "cell_type": "code",
   "execution_count": 8,
   "metadata": {},
   "outputs": [
    {
     "name": "stdout",
     "output_type": "stream",
     "text": [
      "User: Give me a summary of The Epic of Gilgamesh\n",
      "\n",
      "> Assistant:  The Epic of Gilgamesh is an ancient Mesopotamian poem that tells the story of Gilgamesh, a king of the city of Uruk in Sumeria, who embarks on a quest for immortality.\n",
      "The epic begins with the introduction of Gilgamesh, who is a demigod and the ruler of Uruk. He is two-thirds god and one-third human, and is known for his incredible strength and bravery. However, despite his powers, Gilgamesh is also known for his arrogance and cruelty, and he is feared by the people of Uruk.\n",
      "One day, the goddess Ishtar becomes angry with Gilgamesh and sends the monster Humbaba to kill him. Gilgamesh defeats Humbaba and becomes famous throughout the land.\n",
      "After his victory, Gilgamesh becomes introspective and realizes that he is not immortal, like the gods. He decides to embark on a quest for immortality, accompanied by his friend Enkidu. They travel to the Cedar Forest, where they encounter the snake Shamhat, who offers to guide them to the land of the gods.\n",
      "Along the way, they encounter various challenges, including the Bull of Heaven, which they defeat with the help of the goddess Ishtar. They also encounter the goddess Aruru, who creates a storm to distract the Bull and give Gilgamesh and Enkidu time to escape.\n",
      "Eventually, Gilgamesh and Enkidu reach the land of the gods, where they encounter the goddess Ishtar again. She offers to grant them immortality, but only if they agree to become her lovers. Gilgamesh and Enkidu refuse, and Ishtar becomes angry and sends a plague upon the land.\n",
      "Gilgamesh and Enkidu continue their journey, but they are unable to find the secret of immortality. They realize that the only way to achieve immortality is to return to their own world and live a virtuous life.\n",
      "The epic ends with Gilgamesh's return to Uruk, where he becomes a wise and just king, known\n",
      "\n",
      "==================================\n",
      "\n"
     ]
    }
   ],
   "source": [
    "prompts = [\n",
    "    [\n",
    "        {\n",
    "            \"role\": \"user\",\n",
    "            \"content\": \"Give me a summary of The Epic of Gilgamesh\"\n",
    "        }\n",
    "    ]\n",
    "]\n",
    "complete_chat(prompts)"
   ]
  },
  {
   "cell_type": "code",
   "execution_count": 9,
   "metadata": {},
   "outputs": [
    {
     "name": "stdout",
     "output_type": "stream",
     "text": [
      "User: Give me a summary of Babel by R. F. Kuang\n",
      "\n",
      "> Assistant:  Babel is a fantasy novel written by R.F. Kuang, published in 2019. The book is set in a world inspired by Chinese history and mythology, and follows multiple characters as they navigate a world where the power of language is currency, and the ability to speak different languages is a rare and valuable skill.\n",
      "The story is told through multiple perspectives, including:\n",
      "* Nisha, a young orphan who discovers she has the ability to learn and speak any language she hears;\n",
      "* Dean, a charismatic linguist who is searching for a lost language that could change the course of history;\n",
      "* Governor Reeds, a ruthless politician who will stop at nothing to gain control of the language trade;\n",
      "* Jovis, a mysterious figure who has the ability to manipulate language and bend reality to his will.\n",
      "As the story unfolds, Nisha, Dean, and Governor Reeds find themselves entangled in a web of political intrigue and linguistic magic, as they race to uncover the secrets of the lost language and gain control of the power of language.\n",
      "Throughout the book, Kuang explores themes of language, power, identity, and the ways in which language can shape and reflect the world around us. The author's use of language is inventive and masterful, with a focus on creating a richly detailed and immersive world that draws the reader in and keeps them engaged.\n",
      "Overall, Babel is a captivating and thought-provoking novel that combines elements of fantasy, historical fiction, and political intrigue to create a unique and unforgettable reading experience.\n",
      "\n",
      "==================================\n",
      "\n"
     ]
    }
   ],
   "source": [
    "prompts = [\n",
    "    [\n",
    "        {\n",
    "            \"role\": \"user\",\n",
    "            \"content\": \"Give me a summary of Babel by R. F. Kuang\"\n",
    "        }\n",
    "    ]\n",
    "]\n",
    "complete_chat(prompts)"
   ]
  },
  {
   "cell_type": "code",
   "execution_count": 10,
   "metadata": {},
   "outputs": [
    {
     "name": "stdout",
     "output_type": "stream",
     "text": [
      "System: Keep the following information in mind while answering the prompts: Babel: Or the Necessity of Violence: An Arcane History of the Oxford Translators' Revolution is a 2022 novel of speculative fiction by R. F. Kuang and set in 1830s England. Thematically similar to The Poppy War, Kuang's first book series, the book criticizes British imperialism, capitalism, and the complicity of academia in perpetuating and enabling them. Babel is set in an alternative-reality 1830s England in which Britain's global economic and colonial supremacy are fueled by the use of magical silver bars. Their power comes from capturing what is \"lost in translation\" between words in different languages that have similar, but not identical, meanings. Silver bars inscribed with such 'match-pairs' can increase industrial and agricultural production, improve the accuracy of bullets, heal injuries, and more. To harness this power, Oxford University created the Royal Institute of Translation, nicknamed \"Babel\", where scholars work to find match-pairs. The plot is focused on four new students at the institute, their growing awareness that their academic efforts maintain Britain's imperialist supremacy, their debate over how to prevent the Opium War, and the use of violence. It debuted at the first spot on The New York Times Best Seller list, and won Blackwell's Books of the Year for Fiction in 2022 and the 2022 Nebula Award for Best Novel.\n",
      "\n",
      "User: Give me a summary of Babel by R. F. Kuang\n",
      "\n",
      "> Assistant:  Sure, here's a summary of Babel by R. F. Kuang:\n",
      "Babel is a 2022 novel of speculative fiction set in an alternative-reality 1830s England, where Britain's global economic and colonial supremacy are fueled by the use of magical silver bars. These silver bars, inscribed with \"match-pairs\" of words in different languages, increase industrial and agricultural production, improve the accuracy of bullets, and heal injuries. To harness this power, Oxford University created the Royal\n",
      "\n",
      "==================================\n",
      "\n"
     ]
    }
   ],
   "source": [
    "prompts = [\n",
    "    [\n",
    "        {\n",
    "            \"role\": \"system\",\n",
    "            \"content\": (\n",
    "                \"Keep the following information in mind while answering the prompts: \"\n",
    "                \"Babel: Or the Necessity of Violence: An Arcane History of the Oxford Translators' Revolution is a 2022 novel of speculative fiction by R. F. Kuang and set in 1830s England. Thematically similar to The Poppy War, Kuang's first book series, the book criticizes British imperialism, capitalism, and the complicity of academia in perpetuating and enabling them. Babel is set in an alternative-reality 1830s England in which Britain's global economic and colonial supremacy are fueled by the use of magical silver bars. Their power comes from capturing what is \\\"lost in translation\\\" between words in different languages that have similar, but not identical, meanings. Silver bars inscribed with such 'match-pairs' can increase industrial and agricultural production, improve the accuracy of bullets, heal injuries, and more. To harness this power, Oxford University created the Royal Institute of Translation, nicknamed \\\"Babel\\\", where scholars work to find match-pairs. The plot is focused on four new students at the institute, their growing awareness that their academic efforts maintain Britain's imperialist supremacy, their debate over how to prevent the Opium War, and the use of violence. It debuted at the first spot on The New York Times Best Seller list, and won Blackwell's Books of the Year for Fiction in 2022 and the 2022 Nebula Award for Best Novel.\"\n",
    "            )\n",
    "        },\n",
    "        {\n",
    "            \"role\": \"user\",\n",
    "            \"content\": \"Give me a summary of Babel by R. F. Kuang\"\n",
    "        }\n",
    "    ]\n",
    "]\n",
    "complete_chat(prompts)"
   ]
  },
  {
   "cell_type": "code",
   "execution_count": null,
   "metadata": {},
   "outputs": [],
   "source": []
  }
 ],
 "metadata": {
  "kernelspec": {
   "display_name": "Python 3",
   "language": "python",
   "name": "python3"
  },
  "language_info": {
   "codemirror_mode": {
    "name": "ipython",
    "version": 3
   },
   "file_extension": ".py",
   "mimetype": "text/x-python",
   "name": "python",
   "nbconvert_exporter": "python",
   "pygments_lexer": "ipython3",
   "version": "3.10.12"
  }
 },
 "nbformat": 4,
 "nbformat_minor": 2
}
